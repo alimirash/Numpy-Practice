{
 "cells": [
  {
   "cell_type": "code",
   "execution_count": 1,
   "id": "0dc01df8",
   "metadata": {},
   "outputs": [],
   "source": [
    "import numpy as np"
   ]
  },
  {
   "cell_type": "code",
   "execution_count": 3,
   "id": "e3a59998",
   "metadata": {},
   "outputs": [
    {
     "data": {
      "text/plain": [
       "2"
      ]
     },
     "execution_count": 3,
     "metadata": {},
     "output_type": "execute_result"
    }
   ],
   "source": [
    "a = np.mod(10,4)\n",
    "a"
   ]
  },
  {
   "cell_type": "code",
   "execution_count": 5,
   "id": "031fe926",
   "metadata": {},
   "outputs": [
    {
     "data": {
      "text/plain": [
       "False"
      ]
     },
     "execution_count": 5,
     "metadata": {},
     "output_type": "execute_result"
    }
   ],
   "source": [
    "b = np.equal(2,5)\n",
    "b"
   ]
  },
  {
   "cell_type": "code",
   "execution_count": 13,
   "id": "bba2cd40",
   "metadata": {},
   "outputs": [],
   "source": [
    "d = np.arange(10)\n",
    "s = np.arange(10,20)"
   ]
  },
  {
   "cell_type": "code",
   "execution_count": 14,
   "id": "f0d18ba5",
   "metadata": {},
   "outputs": [
    {
     "data": {
      "text/plain": [
       "array([0, 1, 2, 3, 4, 5, 6, 7, 8, 9])"
      ]
     },
     "execution_count": 14,
     "metadata": {},
     "output_type": "execute_result"
    }
   ],
   "source": [
    "d"
   ]
  },
  {
   "cell_type": "code",
   "execution_count": 15,
   "id": "b95a41bc",
   "metadata": {},
   "outputs": [
    {
     "data": {
      "text/plain": [
       "array([10, 11, 12, 13, 14, 15, 16, 17, 18, 19])"
      ]
     },
     "execution_count": 15,
     "metadata": {},
     "output_type": "execute_result"
    }
   ],
   "source": [
    "s"
   ]
  },
  {
   "cell_type": "code",
   "execution_count": 16,
   "id": "1a42ac2b",
   "metadata": {},
   "outputs": [
    {
     "data": {
      "text/plain": [
       "array([[  0,   0,   0,   0,   0,   0,   0,   0,   0,   0],\n",
       "       [ 10,  11,  12,  13,  14,  15,  16,  17,  18,  19],\n",
       "       [ 20,  22,  24,  26,  28,  30,  32,  34,  36,  38],\n",
       "       [ 30,  33,  36,  39,  42,  45,  48,  51,  54,  57],\n",
       "       [ 40,  44,  48,  52,  56,  60,  64,  68,  72,  76],\n",
       "       [ 50,  55,  60,  65,  70,  75,  80,  85,  90,  95],\n",
       "       [ 60,  66,  72,  78,  84,  90,  96, 102, 108, 114],\n",
       "       [ 70,  77,  84,  91,  98, 105, 112, 119, 126, 133],\n",
       "       [ 80,  88,  96, 104, 112, 120, 128, 136, 144, 152],\n",
       "       [ 90,  99, 108, 117, 126, 135, 144, 153, 162, 171]])"
      ]
     },
     "execution_count": 16,
     "metadata": {},
     "output_type": "execute_result"
    }
   ],
   "source": [
    "g = np.outer(d,s)\n",
    "g"
   ]
  },
  {
   "cell_type": "code",
   "execution_count": 24,
   "id": "baa67cf0",
   "metadata": {},
   "outputs": [
    {
     "data": {
      "text/plain": [
       "array([[10, 11, 12, 13, 14, 15, 16, 17, 18, 19],\n",
       "       [11, 12, 13, 14, 15, 16, 17, 18, 19, 20],\n",
       "       [12, 13, 14, 15, 16, 17, 18, 19, 20, 21],\n",
       "       [13, 14, 15, 16, 17, 18, 19, 20, 21, 22],\n",
       "       [14, 15, 16, 17, 18, 19, 20, 21, 22, 23],\n",
       "       [15, 16, 17, 18, 19, 20, 21, 22, 23, 24],\n",
       "       [16, 17, 18, 19, 20, 21, 22, 23, 24, 25],\n",
       "       [17, 18, 19, 20, 21, 22, 23, 24, 25, 26],\n",
       "       [18, 19, 20, 21, 22, 23, 24, 25, 26, 27],\n",
       "       [19, 20, 21, 22, 23, 24, 25, 26, 27, 28]])"
      ]
     },
     "execution_count": 24,
     "metadata": {},
     "output_type": "execute_result"
    }
   ],
   "source": [
    "h = np.add.outer(s,d)\n",
    "h"
   ]
  },
  {
   "cell_type": "code",
   "execution_count": 19,
   "id": "c74c6046",
   "metadata": {},
   "outputs": [
    {
     "data": {
      "text/plain": [
       "array([10, 10, 10, 10, 10, 10, 10, 10, 10, 10])"
      ]
     },
     "execution_count": 19,
     "metadata": {},
     "output_type": "execute_result"
    }
   ],
   "source": [
    "j = np.subtract(s,d)\n",
    "j"
   ]
  },
  {
   "cell_type": "code",
   "execution_count": 22,
   "id": "f7d82a37",
   "metadata": {},
   "outputs": [
    {
     "data": {
      "text/plain": [
       "array([  0,  11,  24,  39,  56,  75,  96, 119, 144, 171])"
      ]
     },
     "execution_count": 22,
     "metadata": {},
     "output_type": "execute_result"
    }
   ],
   "source": [
    "l = np.multiply(s,d)\n",
    "l"
   ]
  },
  {
   "cell_type": "code",
   "execution_count": 23,
   "id": "7cedbe37",
   "metadata": {},
   "outputs": [
    {
     "name": "stderr",
     "output_type": "stream",
     "text": [
      "C:\\Users\\ALIMIR~1\\AppData\\Local\\Temp/ipykernel_2220/3521705441.py:1: RuntimeWarning: divide by zero encountered in true_divide\n",
      "  p = np.divide(s,d)\n"
     ]
    },
    {
     "data": {
      "text/plain": [
       "array([        inf, 11.        ,  6.        ,  4.33333333,  3.5       ,\n",
       "        3.        ,  2.66666667,  2.42857143,  2.25      ,  2.11111111])"
      ]
     },
     "execution_count": 23,
     "metadata": {},
     "output_type": "execute_result"
    }
   ],
   "source": [
    "p = np.divide(s,d)\n",
    "p"
   ]
  },
  {
   "cell_type": "code",
   "execution_count": 25,
   "id": "1e16fa82",
   "metadata": {},
   "outputs": [],
   "source": [
    "def is_integer(number):\n",
    "    return np.equal(np.mod(number,1),0)"
   ]
  },
  {
   "cell_type": "code",
   "execution_count": 26,
   "id": "f854a8f6",
   "metadata": {},
   "outputs": [],
   "source": [
    "np_func = np.frompyfunc(is_integer,1,1)"
   ]
  },
  {
   "cell_type": "code",
   "execution_count": 27,
   "id": "23f4297d",
   "metadata": {},
   "outputs": [],
   "source": [
    "number_range = 9"
   ]
  },
  {
   "cell_type": "code",
   "execution_count": 28,
   "id": "e4e9f388",
   "metadata": {},
   "outputs": [
    {
     "data": {
      "text/plain": [
       "array([1, 2, 3, 4, 5, 6, 7, 8, 9])"
      ]
     },
     "execution_count": 28,
     "metadata": {},
     "output_type": "execute_result"
    }
   ],
   "source": [
    "first_array = np.arange(number_range) + 1\n",
    "second_array = np.arange(number_range) + 1\n",
    "first_array"
   ]
  },
  {
   "cell_type": "code",
   "execution_count": 29,
   "id": "aac45a76",
   "metadata": {},
   "outputs": [
    {
     "data": {
      "text/plain": [
       "array([1, 2, 3, 4, 5, 6, 7, 8, 9])"
      ]
     },
     "execution_count": 29,
     "metadata": {},
     "output_type": "execute_result"
    }
   ],
   "source": [
    "second_array"
   ]
  },
  {
   "cell_type": "code",
   "execution_count": 30,
   "id": "8e31a359",
   "metadata": {},
   "outputs": [
    {
     "data": {
      "text/plain": [
       "array([[  2,   5,  10,  17,  26,  37,  50,  65,  82],\n",
       "       [  5,   8,  13,  20,  29,  40,  53,  68,  85],\n",
       "       [ 10,  13,  18,  25,  34,  45,  58,  73,  90],\n",
       "       [ 17,  20,  25,  32,  41,  52,  65,  80,  97],\n",
       "       [ 26,  29,  34,  41,  50,  61,  74,  89, 106],\n",
       "       [ 37,  40,  45,  52,  61,  72,  85, 100, 117],\n",
       "       [ 50,  53,  58,  65,  74,  85,  98, 113, 130],\n",
       "       [ 65,  68,  73,  80,  89, 100, 113, 128, 145],\n",
       "       [ 82,  85,  90,  97, 106, 117, 130, 145, 162]], dtype=int32)"
      ]
     },
     "execution_count": 30,
     "metadata": {},
     "output_type": "execute_result"
    }
   ],
   "source": [
    "res = np.add.outer(first_array ** 2,second_array ** 2)\n",
    "res"
   ]
  },
  {
   "cell_type": "code",
   "execution_count": 32,
   "id": "04733211",
   "metadata": {},
   "outputs": [
    {
     "data": {
      "text/plain": [
       "array([[ 1.41421356,  2.23606798,  3.16227766,  4.12310563,  5.09901951,\n",
       "         6.08276253,  7.07106781,  8.06225775,  9.05538514],\n",
       "       [ 2.23606798,  2.82842712,  3.60555128,  4.47213595,  5.38516481,\n",
       "         6.32455532,  7.28010989,  8.24621125,  9.21954446],\n",
       "       [ 3.16227766,  3.60555128,  4.24264069,  5.        ,  5.83095189,\n",
       "         6.70820393,  7.61577311,  8.54400375,  9.48683298],\n",
       "       [ 4.12310563,  4.47213595,  5.        ,  5.65685425,  6.40312424,\n",
       "         7.21110255,  8.06225775,  8.94427191,  9.8488578 ],\n",
       "       [ 5.09901951,  5.38516481,  5.83095189,  6.40312424,  7.07106781,\n",
       "         7.81024968,  8.60232527,  9.43398113, 10.29563014],\n",
       "       [ 6.08276253,  6.32455532,  6.70820393,  7.21110255,  7.81024968,\n",
       "         8.48528137,  9.21954446, 10.        , 10.81665383],\n",
       "       [ 7.07106781,  7.28010989,  7.61577311,  8.06225775,  8.60232527,\n",
       "         9.21954446,  9.89949494, 10.63014581, 11.40175425],\n",
       "       [ 8.06225775,  8.24621125,  8.54400375,  8.94427191,  9.43398113,\n",
       "        10.        , 10.63014581, 11.3137085 , 12.04159458],\n",
       "       [ 9.05538514,  9.21954446,  9.48683298,  9.8488578 , 10.29563014,\n",
       "        10.81665383, 11.40175425, 12.04159458, 12.72792206]])"
      ]
     },
     "execution_count": 32,
     "metadata": {},
     "output_type": "execute_result"
    }
   ],
   "source": [
    "final = np.sqrt(res)\n",
    "final"
   ]
  },
  {
   "cell_type": "code",
   "execution_count": 33,
   "id": "ee09dd02",
   "metadata": {},
   "outputs": [
    {
     "data": {
      "text/plain": [
       "array([[False, False, False, False, False, False, False, False, False],\n",
       "       [False, False, False, False, False, False, False, False, False],\n",
       "       [False, False, False, True, False, False, False, False, False],\n",
       "       [False, False, True, False, False, False, False, False, False],\n",
       "       [False, False, False, False, False, False, False, False, False],\n",
       "       [False, False, False, False, False, False, False, True, False],\n",
       "       [False, False, False, False, False, False, False, False, False],\n",
       "       [False, False, False, False, False, True, False, False, False],\n",
       "       [False, False, False, False, False, False, False, False, False]],\n",
       "      dtype=object)"
      ]
     },
     "execution_count": 33,
     "metadata": {},
     "output_type": "execute_result"
    }
   ],
   "source": [
    "np_func(final)"
   ]
  },
  {
   "cell_type": "code",
   "execution_count": null,
   "id": "badf9f6c",
   "metadata": {},
   "outputs": [],
   "source": []
  }
 ],
 "metadata": {
  "kernelspec": {
   "display_name": "Python 3 (ipykernel)",
   "language": "python",
   "name": "python3"
  },
  "language_info": {
   "codemirror_mode": {
    "name": "ipython",
    "version": 3
   },
   "file_extension": ".py",
   "mimetype": "text/x-python",
   "name": "python",
   "nbconvert_exporter": "python",
   "pygments_lexer": "ipython3",
   "version": "3.9.7"
  }
 },
 "nbformat": 4,
 "nbformat_minor": 5
}
