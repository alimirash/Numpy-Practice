{
 "cells": [
  {
   "cell_type": "code",
   "execution_count": 31,
   "id": "f17f9276",
   "metadata": {},
   "outputs": [],
   "source": [
    "import numpy as np\n",
    "import datetime"
   ]
  },
  {
   "cell_type": "code",
   "execution_count": 32,
   "id": "441c7005",
   "metadata": {},
   "outputs": [],
   "source": [
    "a = np.random.randint(10,99,size =100000000,dtype = np.int64)\n",
    "b = np.random.randint(10,99,size =100000000,dtype = np.int64)"
   ]
  },
  {
   "cell_type": "code",
   "execution_count": 33,
   "id": "7a93eb6d",
   "metadata": {},
   "outputs": [
    {
     "data": {
      "text/plain": [
       "(datetime.timedelta(seconds=38, microseconds=308767), 291608548377)"
      ]
     },
     "execution_count": 33,
     "metadata": {},
     "output_type": "execute_result"
    }
   ],
   "source": [
    "python_start = datetime.datetime.now()\n",
    "python_sum = 0\n",
    "for i ,j in zip(a,b):\n",
    "    python_sum += i*j\n",
    "python_end = datetime.datetime.now()\n",
    "python_res = python_end - python_start\n",
    "python_res , python_sum"
   ]
  },
  {
   "cell_type": "code",
   "execution_count": 34,
   "id": "ed1b15b2",
   "metadata": {},
   "outputs": [
    {
     "data": {
      "text/plain": [
       "(datetime.timedelta(microseconds=131018), 291608548377)"
      ]
     },
     "execution_count": 34,
     "metadata": {},
     "output_type": "execute_result"
    }
   ],
   "source": [
    "numpy_start = datetime.datetime.now()\n",
    "numpy_sum = np.dot(a,b)\n",
    "numpy_end = datetime.datetime.now()\n",
    "numpy_res = numpy_end - numpy_start\n",
    "numpy_res , numpy_sum"
   ]
  },
  {
   "cell_type": "code",
   "execution_count": 35,
   "id": "16676c45",
   "metadata": {},
   "outputs": [
    {
     "data": {
      "text/plain": [
       "292.393159718512"
      ]
     },
     "execution_count": 35,
     "metadata": {},
     "output_type": "execute_result"
    }
   ],
   "source": [
    "python_res / numpy_res"
   ]
  },
  {
   "cell_type": "code",
   "execution_count": null,
   "id": "6fe1ecda",
   "metadata": {},
   "outputs": [],
   "source": []
  }
 ],
 "metadata": {
  "kernelspec": {
   "display_name": "Python 3 (ipykernel)",
   "language": "python",
   "name": "python3"
  },
  "language_info": {
   "codemirror_mode": {
    "name": "ipython",
    "version": 3
   },
   "file_extension": ".py",
   "mimetype": "text/x-python",
   "name": "python",
   "nbconvert_exporter": "python",
   "pygments_lexer": "ipython3",
   "version": "3.9.7"
  }
 },
 "nbformat": 4,
 "nbformat_minor": 5
}
