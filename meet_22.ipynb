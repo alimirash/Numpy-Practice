{
 "cells": [
  {
   "cell_type": "code",
   "execution_count": 2,
   "id": "99d0b26e",
   "metadata": {},
   "outputs": [],
   "source": [
    "from matplotlib.image import imread"
   ]
  },
  {
   "cell_type": "markdown",
   "id": "573bcc44",
   "metadata": {},
   "source": [
    "<img src = \"1.jpg\" width = 250 height = 100/>"
   ]
  },
  {
   "cell_type": "code",
   "execution_count": 3,
   "id": "c48a9432",
   "metadata": {},
   "outputs": [
    {
     "data": {
      "text/plain": [
       "numpy.ndarray"
      ]
     },
     "execution_count": 3,
     "metadata": {},
     "output_type": "execute_result"
    }
   ],
   "source": [
    "my_first_image = imread(\"1.jpg\")\n",
    "type(my_first_image)"
   ]
  },
  {
   "cell_type": "code",
   "execution_count": 7,
   "id": "032c2e53",
   "metadata": {},
   "outputs": [
    {
     "data": {
      "text/plain": [
       "(7670403, (1599, 1599, 3), 3)"
      ]
     },
     "execution_count": 7,
     "metadata": {},
     "output_type": "execute_result"
    }
   ],
   "source": [
    "my_first_image.size ,my_first_image.shape,my_first_image.ndim"
   ]
  },
  {
   "cell_type": "code",
   "execution_count": 8,
   "id": "49daed55",
   "metadata": {},
   "outputs": [
    {
     "data": {
      "text/plain": [
       "array([[[17, 17, 25],\n",
       "        [18, 18, 26],\n",
       "        [16, 16, 24],\n",
       "        ...,\n",
       "        [15, 18, 25],\n",
       "        [15, 18, 25],\n",
       "        [15, 18, 25]]], dtype=uint8)"
      ]
     },
     "execution_count": 8,
     "metadata": {},
     "output_type": "execute_result"
    }
   ],
   "source": [
    "my_first_image[:1]"
   ]
  },
  {
   "cell_type": "code",
   "execution_count": null,
   "id": "7f370110",
   "metadata": {},
   "outputs": [],
   "source": []
  }
 ],
 "metadata": {
  "kernelspec": {
   "display_name": "Python 3 (ipykernel)",
   "language": "python",
   "name": "python3"
  },
  "language_info": {
   "codemirror_mode": {
    "name": "ipython",
    "version": 3
   },
   "file_extension": ".py",
   "mimetype": "text/x-python",
   "name": "python",
   "nbconvert_exporter": "python",
   "pygments_lexer": "ipython3",
   "version": "3.9.7"
  }
 },
 "nbformat": 4,
 "nbformat_minor": 5
}
