{
 "cells": [
  {
   "cell_type": "code",
   "execution_count": 1,
   "id": "43e93de1",
   "metadata": {},
   "outputs": [],
   "source": [
    "import numpy as np"
   ]
  },
  {
   "cell_type": "code",
   "execution_count": 14,
   "id": "b1eb2868",
   "metadata": {},
   "outputs": [],
   "source": [
    "a = np.random.randint(0,99,size=(3,4))\n",
    "b = np.random.randint(0,99,size=(3,4))"
   ]
  },
  {
   "cell_type": "code",
   "execution_count": 4,
   "id": "e1d5579b",
   "metadata": {},
   "outputs": [
    {
     "data": {
      "text/plain": [
       "array([[ 2, 69, 38, 23],\n",
       "       [93, 53, 64, 14],\n",
       "       [ 0, 39, 27, 30]])"
      ]
     },
     "execution_count": 4,
     "metadata": {},
     "output_type": "execute_result"
    }
   ],
   "source": [
    "a"
   ]
  },
  {
   "cell_type": "code",
   "execution_count": 7,
   "id": "55df75ea",
   "metadata": {},
   "outputs": [
    {
     "data": {
      "text/plain": [
       "array([[78, 58, 26, 12],\n",
       "       [57, 76, 34, 43],\n",
       "       [96, 79, 72, 37]])"
      ]
     },
     "execution_count": 7,
     "metadata": {},
     "output_type": "execute_result"
    }
   ],
   "source": [
    "b"
   ]
  },
  {
   "cell_type": "code",
   "execution_count": 15,
   "id": "4d927146",
   "metadata": {},
   "outputs": [
    {
     "data": {
      "text/plain": [
       "array([[4582, 6016,  744,  567],\n",
       "       [2162,  280, 4275,  518],\n",
       "       [5418, 1380, 6210, 2716]])"
      ]
     },
     "execution_count": 15,
     "metadata": {},
     "output_type": "execute_result"
    }
   ],
   "source": [
    "a * b"
   ]
  },
  {
   "cell_type": "code",
   "execution_count": 16,
   "id": "1938d2d6",
   "metadata": {},
   "outputs": [],
   "source": [
    "d = np.random.randint(0,99,size=(4,3))"
   ]
  },
  {
   "cell_type": "code",
   "execution_count": 18,
   "id": "58b4a7f8",
   "metadata": {},
   "outputs": [
    {
     "data": {
      "text/plain": [
       "array([[ 8636,  5976,  9705],\n",
       "       [ 9735,  6023,  8126],\n",
       "       [16658,  9110, 17315]])"
      ]
     },
     "execution_count": 18,
     "metadata": {},
     "output_type": "execute_result"
    }
   ],
   "source": [
    "c = np.dot(a,d)\n",
    "c"
   ]
  },
  {
   "cell_type": "code",
   "execution_count": 22,
   "id": "049e24ea",
   "metadata": {},
   "outputs": [
    {
     "data": {
      "text/plain": [
       "array([[11909,  6343, 10096],\n",
       "       [11538,  7235, 10489],\n",
       "       [18483, 10649, 15724]])"
      ]
     },
     "execution_count": 22,
     "metadata": {},
     "output_type": "execute_result"
    }
   ],
   "source": [
    "f = np.dot(a,b.T)\n",
    "f"
   ]
  },
  {
   "cell_type": "code",
   "execution_count": null,
   "id": "0a166cef",
   "metadata": {},
   "outputs": [],
   "source": []
  }
 ],
 "metadata": {
  "kernelspec": {
   "display_name": "Python 3 (ipykernel)",
   "language": "python",
   "name": "python3"
  },
  "language_info": {
   "codemirror_mode": {
    "name": "ipython",
    "version": 3
   },
   "file_extension": ".py",
   "mimetype": "text/x-python",
   "name": "python",
   "nbconvert_exporter": "python",
   "pygments_lexer": "ipython3",
   "version": "3.9.7"
  }
 },
 "nbformat": 4,
 "nbformat_minor": 5
}
