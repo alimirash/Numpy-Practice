{
 "cells": [
  {
   "cell_type": "code",
   "execution_count": 1,
   "id": "521c8586",
   "metadata": {},
   "outputs": [],
   "source": [
    "import numpy as np"
   ]
  },
  {
   "cell_type": "code",
   "execution_count": 2,
   "id": "b704b56a",
   "metadata": {},
   "outputs": [],
   "source": [
    "def caculate_square_area(x):\n",
    "    return x ** 2"
   ]
  },
  {
   "cell_type": "code",
   "execution_count": 3,
   "id": "d82dbdde",
   "metadata": {},
   "outputs": [
    {
     "data": {
      "text/plain": [
       "<function __main__.caculate_square_area(x)>"
      ]
     },
     "execution_count": 3,
     "metadata": {},
     "output_type": "execute_result"
    }
   ],
   "source": [
    "caculate_square_area"
   ]
  },
  {
   "cell_type": "code",
   "execution_count": 6,
   "id": "eac73efe",
   "metadata": {},
   "outputs": [],
   "source": [
    "np.testing.assert_equal(caculate_square_area(5),25)"
   ]
  },
  {
   "cell_type": "code",
   "execution_count": 7,
   "id": "e1da10a5",
   "metadata": {},
   "outputs": [
    {
     "data": {
      "text/plain": [
       "<ufunc 'caculate_square_area (vectorized)'>"
      ]
     },
     "execution_count": 7,
     "metadata": {},
     "output_type": "execute_result"
    }
   ],
   "source": [
    "np_func = np.frompyfunc(caculate_square_area,1,1)\n",
    "np_func"
   ]
  },
  {
   "cell_type": "code",
   "execution_count": 8,
   "id": "8f58d57f",
   "metadata": {},
   "outputs": [
    {
     "data": {
      "text/plain": [
       "4"
      ]
     },
     "execution_count": 8,
     "metadata": {},
     "output_type": "execute_result"
    }
   ],
   "source": [
    "caculate_square_area(2)"
   ]
  },
  {
   "cell_type": "code",
   "execution_count": 14,
   "id": "b2220f0b",
   "metadata": {},
   "outputs": [
    {
     "data": {
      "text/plain": [
       "array([0, 1, 4, 9, 16, 25, 36, 49, 64, 81], dtype=object)"
      ]
     },
     "execution_count": 14,
     "metadata": {},
     "output_type": "execute_result"
    }
   ],
   "source": [
    "a = np.arange(10)\n",
    "np_func(a)"
   ]
  },
  {
   "cell_type": "code",
   "execution_count": 15,
   "id": "fe088ff8",
   "metadata": {},
   "outputs": [
    {
     "data": {
      "text/plain": [
       "array([[ 0,  0,  0,  0,  0,  0,  0,  0,  0,  0],\n",
       "       [ 0,  1,  2,  3,  4,  5,  6,  7,  8,  9],\n",
       "       [ 0,  2,  4,  6,  8, 10, 12, 14, 16, 18],\n",
       "       [ 0,  3,  6,  9, 12, 15, 18, 21, 24, 27],\n",
       "       [ 0,  4,  8, 12, 16, 20, 24, 28, 32, 36],\n",
       "       [ 0,  5, 10, 15, 20, 25, 30, 35, 40, 45],\n",
       "       [ 0,  6, 12, 18, 24, 30, 36, 42, 48, 54],\n",
       "       [ 0,  7, 14, 21, 28, 35, 42, 49, 56, 63],\n",
       "       [ 0,  8, 16, 24, 32, 40, 48, 56, 64, 72],\n",
       "       [ 0,  9, 18, 27, 36, 45, 54, 63, 72, 81]])"
      ]
     },
     "execution_count": 15,
     "metadata": {},
     "output_type": "execute_result"
    }
   ],
   "source": [
    "b = np.outer(a,a)\n",
    "b"
   ]
  },
  {
   "cell_type": "code",
   "execution_count": 16,
   "id": "afac6728",
   "metadata": {},
   "outputs": [
    {
     "data": {
      "text/plain": [
       "array([[0, 0, 0, 0, 0, 0, 0, 0, 0, 0],\n",
       "       [0, 1, 4, 9, 16, 25, 36, 49, 64, 81],\n",
       "       [0, 4, 16, 36, 64, 100, 144, 196, 256, 324],\n",
       "       [0, 9, 36, 81, 144, 225, 324, 441, 576, 729],\n",
       "       [0, 16, 64, 144, 256, 400, 576, 784, 1024, 1296],\n",
       "       [0, 25, 100, 225, 400, 625, 900, 1225, 1600, 2025],\n",
       "       [0, 36, 144, 324, 576, 900, 1296, 1764, 2304, 2916],\n",
       "       [0, 49, 196, 441, 784, 1225, 1764, 2401, 3136, 3969],\n",
       "       [0, 64, 256, 576, 1024, 1600, 2304, 3136, 4096, 5184],\n",
       "       [0, 81, 324, 729, 1296, 2025, 2916, 3969, 5184, 6561]],\n",
       "      dtype=object)"
      ]
     },
     "execution_count": 16,
     "metadata": {},
     "output_type": "execute_result"
    }
   ],
   "source": [
    "np_func(b)"
   ]
  },
  {
   "cell_type": "code",
   "execution_count": null,
   "id": "c6782ac4",
   "metadata": {},
   "outputs": [],
   "source": []
  }
 ],
 "metadata": {
  "kernelspec": {
   "display_name": "Python 3 (ipykernel)",
   "language": "python",
   "name": "python3"
  },
  "language_info": {
   "codemirror_mode": {
    "name": "ipython",
    "version": 3
   },
   "file_extension": ".py",
   "mimetype": "text/x-python",
   "name": "python",
   "nbconvert_exporter": "python",
   "pygments_lexer": "ipython3",
   "version": "3.9.7"
  }
 },
 "nbformat": 4,
 "nbformat_minor": 5
}
